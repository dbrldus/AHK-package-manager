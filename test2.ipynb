{
 "cells": [
  {
   "cell_type": "code",
   "execution_count": 55,
   "id": "c5dba31f",
   "metadata": {},
   "outputs": [],
   "source": [
    "import json, os\n",
    "def loadData(path):\n",
    "    with open(path, \"r\", encoding=\"utf-8\") as f:\n",
    "        data = json.load(f)\n",
    "    return data\n",
    "            \n"
   ]
  },
  {
   "cell_type": "code",
   "execution_count": 56,
   "id": "4242dcae",
   "metadata": {},
   "outputs": [],
   "source": [
    "data = loadData(\"C:\\\\Users\\\\acalo\\\\OneDrive\\\\문서\\\\AutoHotkey\\\\core\\\\plugin-list.json\")"
   ]
  },
  {
   "cell_type": "code",
   "execution_count": 59,
   "id": "38c6ecdc",
   "metadata": {},
   "outputs": [
    {
     "data": {
      "text/plain": [
       "[True, True, True]"
      ]
     },
     "execution_count": 59,
     "metadata": {},
     "output_type": "execute_result"
    }
   ],
   "source": [
    "[ID.get(\"enabled\") for ID in data]"
   ]
  },
  {
   "cell_type": "code",
   "execution_count": 61,
   "id": "03cb26c9",
   "metadata": {},
   "outputs": [
    {
     "data": {
      "text/plain": [
       "bool"
      ]
     },
     "execution_count": 61,
     "metadata": {},
     "output_type": "execute_result"
    }
   ],
   "source": [
    "type(data[1].get(\"enabled\"))"
   ]
  },
  {
   "cell_type": "code",
   "execution_count": 33,
   "id": "e520130c",
   "metadata": {},
   "outputs": [
    {
     "data": {
      "text/plain": [
       "'C:\\\\Users\\\\acalo\\\\OneDrive\\\\문서\\\\AutoHotkey\\\\core\\\\plugin-list.json'"
      ]
     },
     "execution_count": 33,
     "metadata": {},
     "output_type": "execute_result"
    }
   ],
   "source": [
    "os.path.join(\"C:\\\\Users\\\\acalo\\\\OneDrive\\\\문서\",\"AutoHotkey\\\\core\",\"plugin-list.json\")"
   ]
  },
  {
   "cell_type": "code",
   "execution_count": 39,
   "id": "67b3af46",
   "metadata": {},
   "outputs": [],
   "source": [
    "import winreg\n",
    "\n",
    "def find_ahk_path():\n",
    "    try:\n",
    "        key = winreg.OpenKey(winreg.HKEY_CLASSES_ROOT, r\"AutoHotkeyScript\\Shell\\Open\\Command\")\n",
    "        value, _ = winreg.QueryValueEx(key, \"\")\n",
    "        winreg.CloseKey(key)\n",
    "        exe_path = value.split('\"')[1]  # \"C:\\Program Files\\AutoHotkey\\v2\\AutoHotkey64.exe\" \"%1\"\n",
    "        return exe_path\n",
    "    except Exception as e:\n",
    "        raise FileNotFoundError(\"AutoHotkey 실행 파일을 찾을 수 없습니다.\") from e\n",
    "\n",
    "ahk_exe = find_ahk_path()"
   ]
  },
  {
   "cell_type": "code",
   "execution_count": 40,
   "id": "df3d4b8a",
   "metadata": {},
   "outputs": [
    {
     "data": {
      "text/plain": [
       "'C:\\\\Program Files\\\\AutoHotkey\\\\UX\\\\AutoHotkeyUX.exe'"
      ]
     },
     "execution_count": 40,
     "metadata": {},
     "output_type": "execute_result"
    }
   ],
   "source": [
    "ahk_exe"
   ]
  },
  {
   "cell_type": "code",
   "execution_count": null,
   "id": "5b557572",
   "metadata": {},
   "outputs": [],
   "source": []
  },
  {
   "cell_type": "code",
   "execution_count": 44,
   "id": "6c2a795f",
   "metadata": {},
   "outputs": [
    {
     "data": {
      "text/plain": [
       "CompletedProcess(args=['C:\\\\Program Files\\\\AutoHotkey\\\\UX\\\\AutoHotkeyUX.exe', 'C:\\\\\\\\Users\\\\\\\\acalo\\\\\\\\OneDrive\\\\\\\\문서\\\\\\\\AutoHotkey\\\\\\\\core\\\\\\\\PopUrgentMsg.ahk', 'Hi !', 'From python!'], returncode=0)"
      ]
     },
     "execution_count": 44,
     "metadata": {},
     "output_type": "execute_result"
    }
   ],
   "source": [
    "import subprocess\n",
    "\n",
    "ahk_script = r\"C:\\\\Users\\\\acalo\\\\OneDrive\\\\문서\\\\AutoHotkey\\\\core\\\\PopUrgentMsg.ahk\"\n",
    "\n",
    "title = \"Hi !\"\n",
    "message = \"From python!\"\n",
    "\n",
    "subprocess.run([find_ahk_path(), ahk_script, title, message])"
   ]
  },
  {
   "cell_type": "code",
   "execution_count": 46,
   "id": "4514bc76",
   "metadata": {},
   "outputs": [],
   "source": [
    "import threading\n",
    "\n",
    "def run_ahk(title, message):\n",
    "    subprocess.run([\n",
    "        ahk_exe,\n",
    "        ahk_script,\n",
    "        title, message\n",
    "    ])\n",
    "\n",
    "# 스레드 시작\n",
    "t = threading.Thread(target=run_ahk, args=(\"알림\", \"스레드에서 실행됨\"))\n",
    "t.start()"
   ]
  },
  {
   "cell_type": "code",
   "execution_count": 47,
   "id": "9fd7a480",
   "metadata": {},
   "outputs": [],
   "source": [
    "from ahk import AHK"
   ]
  },
  {
   "cell_type": "code",
   "execution_count": 49,
   "id": "aad4be30",
   "metadata": {},
   "outputs": [],
   "source": [
    "\n",
    "ahk = AHK(executable_path = ahk_exe)"
   ]
  },
  {
   "cell_type": "code",
   "execution_count": null,
   "id": "b8a3e627",
   "metadata": {},
   "outputs": [],
   "source": []
  },
  {
   "cell_type": "code",
   "execution_count": 53,
   "id": "dd043024",
   "metadata": {},
   "outputs": [
    {
     "data": {
      "text/plain": [
       "''"
      ]
     },
     "execution_count": 53,
     "metadata": {},
     "output_type": "execute_result"
    }
   ],
   "source": [
    "ahk.run_script('MsgBox \"Hello from Python!\"')\n"
   ]
  }
 ],
 "metadata": {
  "kernelspec": {
   "display_name": "Python 3",
   "language": "python",
   "name": "python3"
  },
  "language_info": {
   "codemirror_mode": {
    "name": "ipython",
    "version": 3
   },
   "file_extension": ".py",
   "mimetype": "text/x-python",
   "name": "python",
   "nbconvert_exporter": "python",
   "pygments_lexer": "ipython3",
   "version": "3.12.6"
  }
 },
 "nbformat": 4,
 "nbformat_minor": 5
}
